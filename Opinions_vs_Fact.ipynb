{
  "cells": [
    {
      "cell_type": "code",
      "execution_count": 63,
      "metadata": {
        "id": "OEdq1w2cONUP"
      },
      "outputs": [],
      "source": [
        "import pandas as pd\n",
        "import numpy as np\n",
        "from matplotlib import pyplot as plt\n",
        "import matplotlib.pyplot as plt\n",
        "\n",
        "import pandas as pd\n",
        "from sklearn.feature_extraction.text import TfidfVectorizer\n",
        "from sklearn.model_selection import train_test_split\n",
        "from sklearn.linear_model import LogisticRegression\n",
        "from sklearn.feature_extraction.text import CountVectorizer,TfidfVectorizer\n",
        "from sklearn.metrics import confusion_matrix\n",
        "from sklearn.model_selection import train_test_split, GridSearchCV, cross_val_score\n",
        "from sklearn.linear_model import LogisticRegression\n",
        "from sklearn.naive_bayes import MultinomialNB\n",
        "from sklearn.ensemble import RandomForestClassifier\n",
        "from sklearn import svm\n",
        "from sklearn.feature_extraction.text import CountVectorizer\n",
        "from sklearn.svm import SVC"
      ]
    },
    {
      "cell_type": "markdown",
      "metadata": {
        "id": "L8BLomy45V00"
      },
      "source": [
        "## Import Dataset from Google Drive\n",
        "---\n",
        "\n"
      ]
    },
    {
      "cell_type": "code",
      "execution_count": 64,
      "metadata": {
        "id": "SKqikrc95hHB"
      },
      "outputs": [],
      "source": [
        "from google.colab import drive\n"
      ]
    },
    {
      "cell_type": "code",
      "execution_count": 65,
      "metadata": {
        "id": "GBoBFTRl7Ise",
        "colab": {
          "base_uri": "https://localhost:8080/"
        },
        "outputId": "1f070166-0603-431c-df3d-c9919ffc63e6"
      },
      "outputs": [
        {
          "output_type": "stream",
          "name": "stdout",
          "text": [
            "Drive already mounted at /content/gdrive; to attempt to forcibly remount, call drive.mount(\"/content/gdrive\", force_remount=True).\n"
          ]
        }
      ],
      "source": [
        "drive.mount('/content/gdrive')"
      ]
    },
    {
      "cell_type": "code",
      "execution_count": 66,
      "metadata": {
        "id": "VCllK7_N7Fws"
      },
      "outputs": [],
      "source": [
        "#Path to the main directory\n",
        "folder_path = '/content/gdrive/My Drive/Fact vs Opinion/'"
      ]
    },
    {
      "cell_type": "code",
      "execution_count": 67,
      "metadata": {
        "id": "Ua4vy6P_7U1j"
      },
      "outputs": [],
      "source": [
        "trainpath_fact = folder_path + \"movies_metadata.csv\"\n",
        "trainpath_opinion = folder_path + \"IMDB Dataset.csv\""
      ]
    },
    {
      "cell_type": "code",
      "execution_count": 68,
      "metadata": {
        "id": "aZVK7Kwc7kQ0",
        "colab": {
          "base_uri": "https://localhost:8080/"
        },
        "outputId": "9e835008-ca5f-4e32-a673-b1a7697e0bf0"
      },
      "outputs": [
        {
          "output_type": "stream",
          "name": "stderr",
          "text": [
            "/usr/local/lib/python3.7/dist-packages/IPython/core/interactiveshell.py:2882: DtypeWarning: Columns (10) have mixed types.Specify dtype option on import or set low_memory=False.\n",
            "  exec(code_obj, self.user_global_ns, self.user_ns)\n"
          ]
        },
        {
          "output_type": "execute_result",
          "data": {
            "text/plain": [
              "(45466,)"
            ]
          },
          "metadata": {},
          "execution_count": 68
        }
      ],
      "source": [
        "fact_data = pd.read_csv(trainpath_fact)\n",
        "fact_data = fact_data.overview\n",
        "fact_data.shape"
      ]
    },
    {
      "cell_type": "code",
      "execution_count": 69,
      "metadata": {
        "id": "We2Nhm-UPX8g",
        "colab": {
          "base_uri": "https://localhost:8080/"
        },
        "outputId": "462795f4-38da-48ca-97b6-3faf09a3f4dc"
      },
      "outputs": [
        {
          "output_type": "stream",
          "name": "stdout",
          "text": [
            "(50000, 2)\n"
          ]
        }
      ],
      "source": [
        "opinion_data = pd.read_csv(trainpath_opinion)\n",
        "print(opinion_data.shape)"
      ]
    },
    {
      "cell_type": "code",
      "source": [
        "print(fact_data[0]) #check fact data sentence 0\n",
        "print(opinion_data.review[0]) #check opinion data sentence 0"
      ],
      "metadata": {
        "id": "hUhk5Up4DPgi",
        "colab": {
          "base_uri": "https://localhost:8080/"
        },
        "outputId": "71e0ae11-502f-4408-9766-b3c83b6d6edd"
      },
      "execution_count": 70,
      "outputs": [
        {
          "output_type": "stream",
          "name": "stdout",
          "text": [
            "Led by Woody, Andy's toys live happily in his room until Andy's birthday brings Buzz Lightyear onto the scene. Afraid of losing his place in Andy's heart, Woody plots against Buzz. But when circumstances separate Buzz and Woody from their owner, the duo eventually learns to put aside their differences.\n",
            "One of the other reviewers has mentioned that after watching just 1 Oz episode you'll be hooked. They are right, as this is exactly what happened with me.<br /><br />The first thing that struck me about Oz was its brutality and unflinching scenes of violence, which set in right from the word GO. Trust me, this is not a show for the faint hearted or timid. This show pulls no punches with regards to drugs, sex or violence. Its is hardcore, in the classic use of the word.<br /><br />It is called OZ as that is the nickname given to the Oswald Maximum Security State Penitentary. It focuses mainly on Emerald City, an experimental section of the prison where all the cells have glass fronts and face inwards, so privacy is not high on the agenda. Em City is home to many..Aryans, Muslims, gangstas, Latinos, Christians, Italians, Irish and more....so scuffles, death stares, dodgy dealings and shady agreements are never far away.<br /><br />I would say the main appeal of the show is due to the fact that it goes where other shows wouldn't dare. Forget pretty pictures painted for mainstream audiences, forget charm, forget romance...OZ doesn't mess around. The first episode I ever saw struck me as so nasty it was surreal, I couldn't say I was ready for it, but as I watched more, I developed a taste for Oz, and got accustomed to the high levels of graphic violence. Not just violence, but injustice (crooked guards who'll be sold out for a nickel, inmates who'll kill on order and get away with it, well mannered, middle class inmates being turned into prison bitches due to their lack of street skills or prison experience) Watching Oz, you may become comfortable with what is uncomfortable viewing....thats if you can get in touch with your darker side.\n"
          ]
        }
      ]
    },
    {
      "cell_type": "markdown",
      "source": [
        "## Convert Data from Lines into Sentences"
      ],
      "metadata": {
        "id": "Op5I-8x1yIvX"
      }
    },
    {
      "cell_type": "code",
      "source": [
        "def get_sentence(data):\n",
        "  \"\"\"\n",
        "  Here, the input is multiple sentences divided into lines\n",
        "  The output is a list of lists of a sentence each\n",
        "  \"\"\"\n",
        "  new_data = []\n",
        "  for i in range(0,len(data)):\n",
        "    if type(data[i]) is not str:\n",
        "      continue\n",
        "    split_sentence = data[i].split(\". \") #this splits each line into the sentences\n",
        "    for p in split_sentence: #this adds each sentence to new data\n",
        "      new_data.append(p)\n",
        "    new_data.append(data[i].split(\".\"))\n",
        "  return new_data"
      ],
      "metadata": {
        "id": "lBjgcgftDkdu"
      },
      "execution_count": 71,
      "outputs": []
    },
    {
      "cell_type": "code",
      "source": [
        "new_fact_data = get_sentence(fact_data)\n",
        "print(fact_data[0])\n",
        "print(new_fact_data[0]) #check that teach line of the data is split into sentences for fact data"
      ],
      "metadata": {
        "id": "m2blTxb4EUOB",
        "colab": {
          "base_uri": "https://localhost:8080/"
        },
        "outputId": "bc067404-29ed-42fb-f7f0-88df63297cb1"
      },
      "execution_count": 72,
      "outputs": [
        {
          "output_type": "stream",
          "name": "stdout",
          "text": [
            "Led by Woody, Andy's toys live happily in his room until Andy's birthday brings Buzz Lightyear onto the scene. Afraid of losing his place in Andy's heart, Woody plots against Buzz. But when circumstances separate Buzz and Woody from their owner, the duo eventually learns to put aside their differences.\n",
            "Led by Woody, Andy's toys live happily in his room until Andy's birthday brings Buzz Lightyear onto the scene\n"
          ]
        }
      ]
    },
    {
      "cell_type": "code",
      "source": [
        "new_opinion_data = get_sentence(opinion_data.review)\n",
        "print(opinion_data.review[0]) #check that each line...\n",
        "print(new_opinion_data[0]) # ...is converted to a sentence"
      ],
      "metadata": {
        "id": "rHtiNiDDFYtI",
        "colab": {
          "base_uri": "https://localhost:8080/"
        },
        "outputId": "a5b95fe4-95d5-4204-8244-66a8bfa02fd6"
      },
      "execution_count": 73,
      "outputs": [
        {
          "output_type": "stream",
          "name": "stdout",
          "text": [
            "One of the other reviewers has mentioned that after watching just 1 Oz episode you'll be hooked. They are right, as this is exactly what happened with me.<br /><br />The first thing that struck me about Oz was its brutality and unflinching scenes of violence, which set in right from the word GO. Trust me, this is not a show for the faint hearted or timid. This show pulls no punches with regards to drugs, sex or violence. Its is hardcore, in the classic use of the word.<br /><br />It is called OZ as that is the nickname given to the Oswald Maximum Security State Penitentary. It focuses mainly on Emerald City, an experimental section of the prison where all the cells have glass fronts and face inwards, so privacy is not high on the agenda. Em City is home to many..Aryans, Muslims, gangstas, Latinos, Christians, Italians, Irish and more....so scuffles, death stares, dodgy dealings and shady agreements are never far away.<br /><br />I would say the main appeal of the show is due to the fact that it goes where other shows wouldn't dare. Forget pretty pictures painted for mainstream audiences, forget charm, forget romance...OZ doesn't mess around. The first episode I ever saw struck me as so nasty it was surreal, I couldn't say I was ready for it, but as I watched more, I developed a taste for Oz, and got accustomed to the high levels of graphic violence. Not just violence, but injustice (crooked guards who'll be sold out for a nickel, inmates who'll kill on order and get away with it, well mannered, middle class inmates being turned into prison bitches due to their lack of street skills or prison experience) Watching Oz, you may become comfortable with what is uncomfortable viewing....thats if you can get in touch with your darker side.\n",
            "One of the other reviewers has mentioned that after watching just 1 Oz episode you'll be hooked\n"
          ]
        }
      ]
    },
    {
      "cell_type": "code",
      "source": [
        "fact_lg = len(new_fact_data) #amount of number of sentences for facts\n",
        "opinion_lg = len(new_opinion_data) #amount of number of sentences for opinions"
      ],
      "metadata": {
        "id": "cKAxqYoXFtxY"
      },
      "execution_count": 74,
      "outputs": []
    },
    {
      "cell_type": "code",
      "execution_count": 75,
      "metadata": {
        "id": "dhx08rHXTnBE",
        "colab": {
          "base_uri": "https://localhost:8080/",
          "height": 0
        },
        "outputId": "15319aa8-3193-4f91-92d1-59d646bee1c9"
      },
      "outputs": [
        {
          "output_type": "stream",
          "name": "stdout",
          "text": [
            "Count of facts:  45466 \n",
            "Count of opinions: 50000\n"
          ]
        },
        {
          "output_type": "display_data",
          "data": {
            "text/plain": [
              "<Figure size 432x288 with 1 Axes>"
            ],
            "image/png": "[encoded data removed]"
          },
          "metadata": {}
        }
      ],
      "source": [
        "# Pie chart to show the amount of lines each dataset has\n",
        "labels = 'Fact', 'Opinion'\n",
        "sizes = [fact_data.shape[0], opinion_data.shape[0]]\n",
        "print(\"Count of facts: \", sizes[0], \"\\nCount of opinions:\", sizes[1])\n",
        "\n",
        "fig1, ax1 = plt.subplots()\n",
        "ax1.pie(sizes, labels=labels, autopct='%1.1f%%',\n",
        "        shadow=True, startangle=90)\n",
        "ax1.axis('equal')  # Equal aspect ratio ensures that pie is drawn as a circle.\n",
        "\n",
        "plt.show()"
      ]
    },
    {
      "cell_type": "code",
      "source": [
        "# Pie chart to show how many sentences each dataset has\n",
        "labels = 'Fact', 'Opinion'\n",
        "sizes = [fact_lg, opinion_lg]\n",
        "print(\"Count of facts: \", sizes[0], \"\\nCount of opinions:\", sizes[1])\n",
        "\n",
        "fig1, ax1 = plt.subplots()\n",
        "ax1.pie(sizes, labels=labels, autopct='%1.1f%%',\n",
        "        shadow=True, startangle=90)\n",
        "ax1.axis('equal')  # Equal aspect ratio ensures that pie is drawn as a circle.\n",
        "\n",
        "plt.show()"
      ],
      "metadata": {
        "id": "MUFzTQpZF-e2",
        "colab": {
          "base_uri": "https://localhost:8080/",
          "height": 0
        },
        "outputId": "25d2e8f2-e391-4581-9289-c9260fefb42b"
      },
      "execution_count": 76,
      "outputs": [
        {
          "output_type": "stream",
          "name": "stdout",
          "text": [
            "Count of facts:  164896 \n",
            "Count of opinions: 541161\n"
          ]
        },
        {
          "output_type": "display_data",
          "data": {
            "text/plain": [
              "<Figure size 432x288 with 1 Axes>"
            ],
            "image/png": "[encoded data removed]"
          },
          "metadata": {}
        }
      ]
    },
    {
      "cell_type": "markdown",
      "source": [
        "## Punctuation Frequency"
      ],
      "metadata": {
        "id": "OgCgBtv4ye3K"
      }
    },
    {
      "cell_type": "code",
      "execution_count": 77,
      "metadata": {
        "id": "tiyF51xdUw6t"
      },
      "outputs": [],
      "source": [
        "def count_punctuation(data, ratio): \n",
        "  \"\"\"\n",
        "  The frequency of each of the punctuation types will be counted for a given dataset, normalised by the ratio compared to the other dataset for fair comparisons\n",
        "  \"\"\"\n",
        "  punctuation = \"!?.',()_\"\n",
        "  punctuation_dictionary = {\"!\":0, \"?\":0, \".\": 0, \"'\": 0, \",\": 0, \"(\" : 0, \")\": 0, \"_\": 0}\n",
        "\n",
        "  for i in range(0, len(data)):\n",
        "    sentence = data[i]\n",
        "    if type(sentence) is not str:\n",
        "      continue\n",
        "    for let in sentence:\n",
        "      if let in punctuation:\n",
        "        punctuation_dictionary[let] += 1\n",
        "\n",
        "  for each in punctuation_dictionary:\n",
        "    punctuation_dictionary[each] = punctuation_dictionary[each]*ratio #multiply by the ratio to normalise\n",
        "\n",
        "  return punctuation_dictionary"
      ]
    },
    {
      "cell_type": "code",
      "source": [
        "#The punctuation of the facts' dataset is counted and plotted\n",
        "fact_punctuation_dictionary = count_punctuation(new_fact_data, 1)\n",
        "p2 = plt.bar(fact_punctuation_dictionary.keys(), fact_punctuation_dictionary.values(), 1, color='g')\n",
        "print(fact_punctuation_dictionary)"
      ],
      "metadata": {
        "id": "XjMKjJCfypvs",
        "colab": {
          "base_uri": "https://localhost:8080/",
          "height": 0
        },
        "outputId": "4b3cd3ee-7322-4e3e-ecb6-39eb878cf680"
      },
      "execution_count": 78,
      "outputs": [
        {
          "output_type": "stream",
          "name": "stdout",
          "text": [
            "{'!': 1546, '?': 2765, '.': 49119, \"'\": 31173, ',': 133694, '(': 10036, ')': 10060, '_': 19}\n"
          ]
        },
        {
          "output_type": "display_data",
          "data": {
            "text/plain": [
              "<Figure size 432x288 with 1 Axes>"
            ],
            "image/png": "[encoded data removed]"
          },
          "metadata": {
            "needs_background": "light"
          }
        }
      ]
    },
    {
      "cell_type": "code",
      "source": [
        "#The punctuation for the opinions' dataset is counted and plotted\n",
        "opinion_punctuation_dictionary = count_punctuation(new_opinion_data, fact_lg/opinion_lg)\n",
        "plt.bar(opinion_punctuation_dictionary.keys(), opinion_punctuation_dictionary.values(), 1, color='g')\n",
        "print(opinion_punctuation_dictionary)"
      ],
      "metadata": {
        "id": "KQFny9Q8zJ8w",
        "colab": {
          "base_uri": "https://localhost:8080/",
          "height": 0
        },
        "outputId": "e64a5b74-e77c-498c-fdce-cbf1f52e8ddb"
      },
      "execution_count": 79,
      "outputs": [
        {
          "output_type": "stream",
          "name": "stdout",
          "text": [
            "{'!': 14980.65630006597, '?': 9853.642165640169, '.': 63793.32890581546, \"'\": 80369.74016974616, ',': 166010.31657491947, '(': 21203.095123262763, ')': 21715.918419841786, '_': 303.79371758127434}\n"
          ]
        },
        {
          "output_type": "display_data",
          "data": {
            "text/plain": [
              "<Figure size 432x288 with 1 Axes>"
            ],
            "image/png": "[encoded data removed]"
          },
          "metadata": {
            "needs_background": "light"
          }
        }
      ]
    },
    {
      "cell_type": "markdown",
      "source": [
        "## Tokenisation and Word Count in Sentence"
      ],
      "metadata": {
        "id": "dmf-mrqEy8Py"
      }
    },
    {
      "cell_type": "code",
      "source": [
        "import re\n",
        "\n",
        "def preprocessSentences(labels):\n",
        "  #this tokenises each of the sentences, adds sentence start and ends\n",
        "  data = []\n",
        "  for line in labels: #Split sentences based on punctuation\n",
        "    sentence = []\n",
        "    #Add begin sentence tag\n",
        "    sentence.append('<s>')\n",
        "    if type(line) is not str:\n",
        "      continue\n",
        "    for word in line.split(): \n",
        "      word = word.lower()\n",
        "      word = re.sub(r'[^\\w\\s]', '', word)\n",
        "      sentence.append(word)\n",
        "    sentence.append('</s>')\n",
        "    data.append(sentence)\n",
        "  return data"
      ],
      "metadata": {
        "id": "0Op_iIkODh1W"
      },
      "execution_count": 80,
      "outputs": []
    },
    {
      "cell_type": "code",
      "source": [
        "tokenised_fact = preprocessSentences(new_fact_data) #tokenisation of facts' dataset"
      ],
      "metadata": {
        "id": "dsfvrCzJDjd0"
      },
      "execution_count": 81,
      "outputs": []
    },
    {
      "cell_type": "code",
      "source": [
        "tokenised_opinion = preprocessSentences(new_opinion_data) #tokenisation of opinions' dataset\n",
        "print(tokenised_opinion[0]) #example of what was stated above"
      ],
      "metadata": {
        "id": "8npYjSAgggO8",
        "colab": {
          "base_uri": "https://localhost:8080/"
        },
        "outputId": "1d2c4289-8e2e-4b43-b9fe-2585e41067be"
      },
      "execution_count": 82,
      "outputs": [
        {
          "output_type": "stream",
          "name": "stdout",
          "text": [
            "['<s>', 'one', 'of', 'the', 'other', 'reviewers', 'has', 'mentioned', 'that', 'after', 'watching', 'just', '1', 'oz', 'episode', 'youll', 'be', 'hooked', '</s>']\n"
          ]
        }
      ]
    },
    {
      "cell_type": "code",
      "source": [
        "def count_words(data):\n",
        "  #this function will check how many words are in each sentence and get the average\n",
        "  divisor = len(data)\n",
        "  count_data = []\n",
        "  count = 0\n",
        "  for i in range(0, len(data)):\n",
        "    num_words_in_sentence = len(data[i])\n",
        "    count += num_words_in_sentence\n",
        "    count_data.append(num_words_in_sentence)\n",
        "  average = count/divisor\n",
        "  return average, count_data"
      ],
      "metadata": {
        "id": "aD_BaiSR8i9V"
      },
      "execution_count": 83,
      "outputs": []
    },
    {
      "cell_type": "code",
      "source": [
        "fact_average, fact_sentence_count = count_words(tokenised_fact) \n",
        "print(fact_average) #average word in each fact sentence"
      ],
      "metadata": {
        "id": "54OZLDFVhI4z",
        "colab": {
          "base_uri": "https://localhost:8080/"
        },
        "outputId": "452194e0-afb4-4263-8f2d-5032eec3ab9c"
      },
      "execution_count": 84,
      "outputs": [
        {
          "output_type": "stream",
          "name": "stdout",
          "text": [
            "22.37602173046252\n"
          ]
        }
      ]
    },
    {
      "cell_type": "code",
      "source": [
        "opinion_average, opinion_sentence_count = count_words(tokenised_opinion)\n",
        "print(opinion_average) #average word in each opinion sentence"
      ],
      "metadata": {
        "id": "TzIyNzprhTP2",
        "colab": {
          "base_uri": "https://localhost:8080/"
        },
        "outputId": "b4ada814-624c-421e-d596-ffe6907aa893"
      },
      "execution_count": 85,
      "outputs": [
        {
          "output_type": "stream",
          "name": "stdout",
          "text": [
            "25.526475025500805\n"
          ]
        }
      ]
    },
    {
      "cell_type": "code",
      "source": [
        "# Histogram of Sentence Length Frequency for Opinions\n",
        "plt.hist(opinion_sentence_count, bins = 300, color = 'r', label = 'Opinion')\n",
        "plt.gca().set(title='Opinion: Frequency Sentence Length', ylabel='Frequency')\n",
        "plt.xlim(0,150)\n",
        "plt.legend();"
      ],
      "metadata": {
        "id": "ud0pjehbgvIQ",
        "colab": {
          "base_uri": "https://localhost:8080/",
          "height": 0
        },
        "outputId": "deedf376-948e-4dca-acac-7924f3207fac"
      },
      "execution_count": 86,
      "outputs": [
        {
          "output_type": "display_data",
          "data": {
            "text/plain": [
              "<Figure size 432x288 with 1 Axes>"
            ],
            "image/png": "[encoded data removed]"
          },
          "metadata": {
            "needs_background": "light"
          }
        }
      ]
    },
    {
      "cell_type": "code",
      "source": [
        "# Histogram of Sentence Length Frequency for Facts\n",
        "plt.hist(fact_sentence_count, bins = 50, color = 'b', label = 'Fact')\n",
        "plt.gca().set(title='Fact: Frequency Sentence Length', ylabel='Frequency')\n",
        "plt.xlim(0,150)\n",
        "plt.legend();"
      ],
      "metadata": {
        "id": "-XG0cCURipPY",
        "colab": {
          "base_uri": "https://localhost:8080/",
          "height": 0
        },
        "outputId": "d2da76f5-d136-48eb-a0ba-9a008cae3499"
      },
      "execution_count": 87,
      "outputs": [
        {
          "output_type": "display_data",
          "data": {
            "text/plain": [
              "<Figure size 432x288 with 1 Axes>"
            ],
            "image/png": "[encoded data removed]"
          },
          "metadata": {
            "needs_background": "light"
          }
        }
      ]
    },
    {
      "cell_type": "markdown",
      "source": [
        "## Key Word Search"
      ],
      "metadata": {
        "id": "W4iKD3gSzibb"
      }
    },
    {
      "cell_type": "code",
      "source": [
        "def find_words(opinion_data, fact_data, words):\n",
        "  #this function will get the opinion and fact dataset, and count the words dataset that are in each and then normalise\n",
        "  opinion_lg = len(opinion_data)\n",
        "  fact_lg = len(fact_data)\n",
        "  ratio_opinion = fact_lg/opinion_lg\n",
        "  word_count_fact = []\n",
        "  word_count_opinion = []\n",
        "  for each in words:\n",
        "    count_fact = 0\n",
        "    count_opinion = 0\n",
        "    for opinion_sentence in opinion_data:\n",
        "      for opinion_word in opinion_sentence:\n",
        "        if opinion_word == each:\n",
        "          count_opinion += 1\n",
        "    for fact_sentence in fact_data:\n",
        "      for fact_word in fact_sentence:\n",
        "        if fact_word == each:\n",
        "          #print(fact_word, each)\n",
        "          count_fact += 1\n",
        "\n",
        "    word_count_fact.append(count_fact)\n",
        "    word_count_opinion.append(count_opinion*ratio_opinion)\n",
        "\n",
        "  return word_count_opinion, word_count_fact"
      ],
      "metadata": {
        "id": "sTkqepCghj1y"
      },
      "execution_count": 88,
      "outputs": []
    },
    {
      "cell_type": "code",
      "source": [
        "# The frequency of the key words (pronouns) outlined below are counted and normalised for both datasets\n",
        "print(find_words(tokenised_opinion, tokenised_fact, [\"i\", \"me\", \"you\", \"he\", \"she\", \"it\", \"him\", \"her\", \"it\", \"we\", \"us\", \"they\", \"them\"]))"
      ],
      "metadata": {
        "id": "nfh4yp_zRo98",
        "colab": {
          "base_uri": "https://localhost:8080/"
        },
        "outputId": "6b263277-7e24-4496-b24d-1edc0a9ba1b6"
      },
      "execution_count": 89,
      "outputs": [
        {
          "output_type": "stream",
          "name": "stdout",
          "text": [
            "([37277.64000806253, 5089.765156435466, 14598.20922263779, 12731.030615215785, 5853.989742670937, 37476.17173187611, 4149.067926810149, 8393.480101229536, 37476.17173187611, 4683.14277395803, 1877.4728449530805, 10179.77541376453, 3758.132001522922], [465, 107, 976, 20501, 9692, 7246, 8359, 21522, 7246, 891, 1175, 10140, 4465])\n"
          ]
        }
      ]
    },
    {
      "cell_type": "code",
      "source": [
        "fact_lg/opinion_lg"
      ],
      "metadata": {
        "id": "Y29DwA_2bshy",
        "colab": {
          "base_uri": "https://localhost:8080/"
        },
        "outputId": "0b5ef4fc-29b3-42ea-9afa-d6050650ecf5"
      },
      "execution_count": 90,
      "outputs": [
        {
          "output_type": "execute_result",
          "data": {
            "text/plain": [
              "0.3047078411045881"
            ]
          },
          "metadata": {},
          "execution_count": 90
        }
      ]
    },
    {
      "cell_type": "code",
      "source": [
        "print(find_words(tokenised_opinion, tokenised_fact, [\"a\", \"the\"]))"
      ],
      "metadata": {
        "id": "7Umq7GMzbWgA",
        "colab": {
          "base_uri": "https://localhost:8080/"
        },
        "outputId": "b6ad7139-5245-4f9e-bd83-d344140867da"
      },
      "execution_count": 91,
      "outputs": [
        {
          "output_type": "stream",
          "name": "stdout",
          "text": [
            "([78559.73841571297, 162707.04190275693], [99055, 138472])\n"
          ]
        }
      ]
    },
    {
      "cell_type": "markdown",
      "source": [
        "## Word Embedding: Bag of Words, tf-idf Prep"
      ],
      "metadata": {
        "id": "1T2Q3vEq0Dn3"
      }
    },
    {
      "cell_type": "code",
      "source": [
        "def bag_of_words_prep(data):\n",
        "  #this function removes the list of list and only has a list of tokens prepared for bag of words\n",
        "  new_data = []\n",
        "  for each in data:\n",
        "    for word in each: \n",
        "      new_data.append(word)\n",
        "  return new_data"
      ],
      "metadata": {
        "id": "lk307hOMlYu2"
      },
      "execution_count": 92,
      "outputs": []
    },
    {
      "cell_type": "code",
      "source": [
        "def bag_of_words_preprocess(data1, data2, N, mid, end):\n",
        "  #input list of list of tokens converted to list of string sentences\n",
        "  train_data = []\n",
        "  test_data = []\n",
        "  train_y = []\n",
        "  test_y = []\n",
        "  for p in range(0, mid):\n",
        "    sen = \"\"\n",
        "    for word in data1[p]:\n",
        "      sen = sen + \" \" + word\n",
        "    train_data.append(sen)\n",
        "    train_y.append(0)\n",
        "  for i in range(0, mid):\n",
        "    sen = \"\"\n",
        "    for word in data2[i]:\n",
        "      sen = sen + \" \" + word\n",
        "    train_data.append(sen)\n",
        "    train_y.append(1)\n",
        "  for q in range(mid, end):\n",
        "    sen = \"\"\n",
        "    for word in data1[q]:\n",
        "      sen = sen + \" \" + word\n",
        "    test_data.append(sen)\n",
        "    test_y.append(0)\n",
        "  for l in range(mid, end):\n",
        "    sen = \"\"\n",
        "    for word in data2[l]:\n",
        "      sen = sen + \" \" + word\n",
        "    test_data.append(sen)\n",
        "    test_y.append(1)\n",
        "  return train_data, train_y, test_data, test_y"
      ],
      "metadata": {
        "id": "69gf5qcN09xD"
      },
      "execution_count": 93,
      "outputs": []
    },
    {
      "cell_type": "markdown",
      "source": [
        "## Model: Logistic Regression, Naive Bayes"
      ],
      "metadata": {
        "id": "_JlwwfFz0Ug6"
      }
    },
    {
      "cell_type": "code",
      "source": [
        "#Split of the data to use\n",
        "N = 120384\n",
        "X_train, y_train, X_test, y_test = bag_of_words_preprocess(tokenised_fact, tokenised_opinion, N, 79000, 120384) \n",
        "print(len(X_train), len(y_train), len(X_test), len(y_test))"
      ],
      "metadata": {
        "id": "MCI7oUsM0dja",
        "colab": {
          "base_uri": "https://localhost:8080/"
        },
        "outputId": "4a8159f0-0f96-4daa-b4f8-e15e31f5f5bc"
      },
      "execution_count": 129,
      "outputs": [
        {
          "output_type": "stream",
          "name": "stdout",
          "text": [
            "158000 158000 82768 82768\n"
          ]
        }
      ]
    },
    {
      "cell_type": "code",
      "source": [
        "X_train[0]"
      ],
      "metadata": {
        "colab": {
          "base_uri": "https://localhost:8080/",
          "height": 35
        },
        "id": "-ZYEC2goKSYm",
        "outputId": "014ae656-b1d1-4629-effe-30b3ffd18de4"
      },
      "execution_count": 130,
      "outputs": [
        {
          "output_type": "execute_result",
          "data": {
            "text/plain": [
              "' <s> led by woody andys toys live happily in his room until andys birthday brings buzz lightyear onto the scene </s>'"
            ],
            "application/vnd.google.colaboratory.intrinsic+json": {
              "type": "string"
            }
          },
          "metadata": {},
          "execution_count": 130
        }
      ]
    },
    {
      "cell_type": "code",
      "source": [
        "y_train[0]"
      ],
      "metadata": {
        "colab": {
          "base_uri": "https://localhost:8080/"
        },
        "id": "eoYyFXDfKT_6",
        "outputId": "f163f0f8-506f-4249-e486-6e8eaf6dedc7"
      },
      "execution_count": 131,
      "outputs": [
        {
          "output_type": "execute_result",
          "data": {
            "text/plain": [
              "0"
            ]
          },
          "metadata": {},
          "execution_count": 131
        }
      ]
    },
    {
      "cell_type": "code",
      "source": [
        "#tdidf for Logistic\n",
        "\n",
        "vectorizer = TfidfVectorizer() #created an instance of the word embedding\n",
        "\n",
        "Xtrain_tfidf = vectorizer.fit_transform(X_train)\n",
        "Xtest_tfidf = vectorizer.transform(X_test)\n",
        "\n",
        "print(\"Logistic Regression\")\n",
        "\n",
        "#logistic regression for tdidf\n",
        "logreg = LogisticRegression()\n",
        "logreg.fit(Xtrain_tfidf, y_train)\n",
        "\n",
        "print(\"Accuracy using tfidf for training data:\", logreg.score(Xtrain_tfidf, y_train)) \n",
        "print(\"Accuracy using tfidf for testing data:\",logreg.score(Xtest_tfidf, y_test))\n",
        "\n",
        "pred_logreg = logreg.predict(Xtest_tfidf)\n",
        "confusion = confusion_matrix(y_test, pred_logreg)\n",
        "print(confusion, \"\\n\")"
      ],
      "metadata": {
        "id": "9_byVmksEbCX",
        "colab": {
          "base_uri": "https://localhost:8080/"
        },
        "outputId": "0c3ccac5-4aef-42ef-c837-6de077683ae5"
      },
      "execution_count": 132,
      "outputs": [
        {
          "output_type": "stream",
          "name": "stdout",
          "text": [
            "Logistic Regression\n"
          ]
        },
        {
          "output_type": "stream",
          "name": "stderr",
          "text": [
            "/usr/local/lib/python3.7/dist-packages/sklearn/linear_model/_logistic.py:818: ConvergenceWarning: lbfgs failed to converge (status=1):\n",
            "STOP: TOTAL NO. of ITERATIONS REACHED LIMIT.\n",
            "\n",
            "Increase the number of iterations (max_iter) or scale the data as shown in:\n",
            "    https://scikit-learn.org/stable/modules/preprocessing.html\n",
            "Please also refer to the documentation for alternative solver options:\n",
            "    https://scikit-learn.org/stable/modules/linear_model.html#logistic-regression\n",
            "  extra_warning_msg=_LOGISTIC_SOLVER_CONVERGENCE_MSG,\n"
          ]
        },
        {
          "output_type": "stream",
          "name": "stdout",
          "text": [
            "Accuracy using tfidf for training data: 0.911367088607595\n",
            "Accuracy using tfidf for testing data: 0.8776217861975643\n",
            "[[37186  4198]\n",
            " [ 5931 35453]] \n",
            "\n"
          ]
        }
      ]
    },
    {
      "cell_type": "code",
      "source": [
        "\n",
        "#multinomial naive bayes for ididf\n",
        "\n",
        "print(\"Multinomial Naive Bayes\")\n",
        "nb = MultinomialNB()\n",
        "nb.fit(Xtrain_tfidf, y_train)\n",
        "\n",
        "print(nb.score(Xtrain_tfidf, y_train))\n",
        "print(nb.score(Xtest_tfidf, y_test))\n",
        "\n",
        "pred_nb = nb.predict(Xtest_tfidf)\n",
        "confusion = confusion_matrix(y_test, pred_nb)\n",
        "print(confusion)"
      ],
      "metadata": {
        "id": "K9hv-yI4KaJ8"
      },
      "execution_count": null,
      "outputs": []
    },
    {
      "cell_type": "code",
      "source": [
        "#Bag of Words Logistic and Naive Bayes\n",
        "\n",
        "from sklearn.feature_extraction.text import CountVectorizer\n",
        "\n",
        "vect = CountVectorizer() #initialise\n",
        "X_train = vect.fit_transform(X_train)\n",
        "X_test = vect.transform(X_test)\n",
        "\n",
        "#logistic regression \n",
        "logreg = LogisticRegression()\n",
        "logreg.fit(X_train, y_train)\n",
        "\n",
        "print(logreg.score(X_train, y_train))\n",
        "print(logreg.score(X_test, y_test))\n",
        "\n",
        "pred_logreg = logreg.predict(X_test)\n",
        "confusion = confusion_matrix(y_test, pred_logreg)\n",
        "print(confusion)\n",
        "\n",
        "#multinomial naive bayes\n",
        "nb = MultinomialNB()\n",
        "nb.fit(X_train, y_train)\n",
        "\n",
        "print(nb.score(X_train, y_train))\n",
        "print(nb.score(X_test, y_test))\n",
        "\n",
        "pred_nb = nb.predict(X_test)\n",
        "confusion = confusion_matrix(y_test, pred_nb)\n",
        "print(confusion)"
      ],
      "metadata": {
        "id": "zwHg8D8jjjlv",
        "colab": {
          "base_uri": "https://localhost:8080/"
        },
        "outputId": "1f4fdb0d-3499-4f14-b00b-c06e0dd05271"
      },
      "execution_count": 96,
      "outputs": [
        {
          "output_type": "stream",
          "name": "stderr",
          "text": [
            "/usr/local/lib/python3.7/dist-packages/sklearn/linear_model/_logistic.py:818: ConvergenceWarning: lbfgs failed to converge (status=1):\n",
            "STOP: TOTAL NO. of ITERATIONS REACHED LIMIT.\n",
            "\n",
            "Increase the number of iterations (max_iter) or scale the data as shown in:\n",
            "    https://scikit-learn.org/stable/modules/preprocessing.html\n",
            "Please also refer to the documentation for alternative solver options:\n",
            "    https://scikit-learn.org/stable/modules/linear_model.html#logistic-regression\n",
            "  extra_warning_msg=_LOGISTIC_SOLVER_CONVERGENCE_MSG,\n"
          ]
        },
        {
          "output_type": "stream",
          "name": "stdout",
          "text": [
            "0.9301708860759493\n",
            "0.8716412139957471\n",
            "[[36306  5078]\n",
            " [ 5546 35838]]\n",
            "0.9015253164556962\n",
            "0.8693456408273729\n",
            "[[35646  5738]\n",
            " [ 5076 36308]]\n"
          ]
        }
      ]
    },
    {
      "cell_type": "markdown",
      "source": [
        "## Random Tree Classifier Model"
      ],
      "metadata": {
        "id": "O8c41IOlY2QP"
      }
    },
    {
      "cell_type": "code",
      "source": [
        "#Due to the higher runtime, a smaller training and testing set has to be created\n",
        "N = 120384\n",
        "X_train, y_train, X_test, y_test = bag_of_words_preprocess(tokenised_fact, tokenised_opinion, N, 20000, 25000) \n",
        "print(len(X_train), len(y_train), len(X_test), len(y_test))"
      ],
      "metadata": {
        "colab": {
          "base_uri": "https://localhost:8080/"
        },
        "id": "9zEfmhEwY1V6",
        "outputId": "a93e1c77-7b4c-47e8-cb69-f189ecbbe2fb"
      },
      "execution_count": 97,
      "outputs": [
        {
          "output_type": "stream",
          "name": "stdout",
          "text": [
            "40000 40000 10000 10000\n"
          ]
        }
      ]
    },
    {
      "cell_type": "code",
      "source": [
        "#tdif word embedding\n",
        "\n",
        "vectorizer = TfidfVectorizer()\n",
        "Xtrain_tfidf = vectorizer.fit_transform(X_train)\n",
        "Xtest_tfidf = vectorizer.transform(X_test)"
      ],
      "metadata": {
        "id": "0sh0x5qUX_Zd"
      },
      "execution_count": 98,
      "outputs": []
    },
    {
      "cell_type": "code",
      "source": [
        "#Bag of Words word embedding\n",
        "\n",
        "vect = CountVectorizer() #initialise\n",
        "X_train = vect.fit_transform(X_train)\n",
        "X_test = vect.transform(X_test)"
      ],
      "metadata": {
        "id": "n4r-pyTUYCd8"
      },
      "execution_count": 99,
      "outputs": []
    },
    {
      "cell_type": "code",
      "source": [
        "#random forest classifier \n",
        "k = 40000\n",
        "rf = RandomForestClassifier()\n",
        "rf.fit(X_train[:k], y_train[:k])\n",
        "\n",
        "print(rf.score(X_train, y_train))\n",
        "print(rf.score(X_test, y_test))\n",
        "pred_rf = rf.predict(X_test)\n",
        "print(confusion_matrix(y_test, pred_rf))\n",
        "\n",
        "rfIDF = RandomForestClassifier()\n",
        "rfIDF.fit(Xtrain_tfidf[:k], y_train[:k])\n",
        "\n",
        "print(rfIDF.score(Xtrain_tfidf, y_train))\n",
        "print(rfIDF.score(Xtest_tfidf, y_test))\n",
        "pred_rfIDF = rfIDF.predict(X_test)\n",
        "print(confusion_matrix(y_test, pred_rfIDF))"
      ],
      "metadata": {
        "id": "Bgtu0Bch6HC0",
        "colab": {
          "base_uri": "https://localhost:8080/"
        },
        "outputId": "b3479f7b-087f-412e-de16-f7619bd12fb6"
      },
      "execution_count": 100,
      "outputs": [
        {
          "output_type": "stream",
          "name": "stdout",
          "text": [
            "0.99915\n",
            "0.8633\n",
            "[[4281  719]\n",
            " [ 648 4352]]\n",
            "0.99915\n",
            "0.8701\n",
            "[[3566 1434]\n",
            " [ 400 4600]]\n"
          ]
        }
      ]
    },
    {
      "cell_type": "markdown",
      "source": [
        "## SVM Model"
      ],
      "metadata": {
        "id": "4RbOQskEmSBH"
      }
    },
    {
      "cell_type": "code",
      "source": [
        "#Due to the higher running time, a lower training and testing set have to be created\n",
        "N = 120384\n",
        "X_train, y_train, X_test, y_test = bag_of_words_preprocess(tokenised_fact, tokenised_opinion, N, 10000, 15500) \n",
        "#fact is 0, opinion is 1 in that order\n",
        "print(len(X_train), len(y_train), len(X_test), len(y_test))"
      ],
      "metadata": {
        "colab": {
          "base_uri": "https://localhost:8080/"
        },
        "id": "pFpsdq_BmW54",
        "outputId": "f15670a1-ba6b-4e06-f0a5-e1b16d248435"
      },
      "execution_count": 101,
      "outputs": [
        {
          "output_type": "stream",
          "name": "stdout",
          "text": [
            "20000 20000 11000 11000\n"
          ]
        }
      ]
    },
    {
      "cell_type": "code",
      "source": [
        "#tdif embedding\n",
        "\n",
        "vectorizer = TfidfVectorizer()\n",
        "Xtrain_tfidf = vectorizer.fit_transform(X_train)\n",
        "Xtest_tfidf = vectorizer.transform(X_test)"
      ],
      "metadata": {
        "id": "PCZVhaw9mY6y"
      },
      "execution_count": 102,
      "outputs": []
    },
    {
      "cell_type": "code",
      "source": [
        "#Bag of Words embedding\n",
        "\n",
        "vect = CountVectorizer() #initialise\n",
        "X_train = vect.fit_transform(X_train)\n",
        "X_test = vect.transform(X_test)"
      ],
      "metadata": {
        "id": "EjOzaujRma7T"
      },
      "execution_count": 103,
      "outputs": []
    },
    {
      "cell_type": "code",
      "source": [
        "# rgf kernel hyperparameter for SVC() is tested here\n",
        "k = 20000\n",
        "classifier = SVC()\n",
        "classifier.fit(X_train,y_train)\n",
        "\n",
        "print(classifier.score(X_train[:k], y_train[:k]))\n",
        "print(classifier.score(X_test, y_test))\n",
        "pred_cla = classifier.predict(X_test)\n",
        "print(confusion_matrix(y_test, pred_cla))\n",
        "\n",
        "classifierIDF = SVC(kernel='rbf', random_state = 1)\n",
        "classifierIDF.fit(Xtrain_tfidf[:k], y_train[:k])\n",
        "\n",
        "print(classifierIDF.score(Xtrain_tfidf, y_train))\n",
        "print(classifierIDF.score(Xtest_tfidf, y_test))\n",
        "pred_claIDF = classifierIDF.predict(X_test)\n",
        "print(confusion_matrix(y_test, pred_claIDF))\n"
      ],
      "metadata": {
        "colab": {
          "base_uri": "https://localhost:8080/"
        },
        "id": "bQ4pbHEvJHES",
        "outputId": "65d0034f-7245-482e-ab40-3a5354985197"
      },
      "execution_count": 104,
      "outputs": [
        {
          "output_type": "stream",
          "name": "stdout",
          "text": [
            "0.946\n",
            "0.8716363636363637\n",
            "[[4922  578]\n",
            " [ 834 4666]]\n",
            "0.9846\n",
            "0.881\n",
            "[[5474   26]\n",
            " [5381  119]]\n"
          ]
        }
      ]
    },
    {
      "cell_type": "code",
      "source": [
        "# poly kernel as a hyperparameter is tested here\n",
        "k = 20000\n",
        "classifier = SVC(kernel = 'poly')\n",
        "classifier.fit(X_train,y_train)\n",
        "\n",
        "print(classifier.score(X_train[:k], y_train[:k]))\n",
        "print(classifier.score(X_test, y_test))\n",
        "pred_cla = classifier.predict(X_test)\n",
        "print(confusion_matrix(y_test, pred_cla))\n",
        "\n",
        "classifierIDF = SVC(kernel = 'poly')\n",
        "classifierIDF.fit(Xtrain_tfidf[:k], y_train[:k])\n",
        "\n",
        "print(classifierIDF.score(Xtrain_tfidf, y_train))\n",
        "print(classifierIDF.score(Xtest_tfidf, y_test))\n",
        "pred_claIDF = classifierIDF.predict(X_test)\n",
        "print(confusion_matrix(y_test, pred_claIDF))"
      ],
      "metadata": {
        "colab": {
          "base_uri": "https://localhost:8080/"
        },
        "id": "QNxODJEFsdIL",
        "outputId": "ae498019-2907-4a72-b3b2-fd03c5748d85"
      },
      "execution_count": 105,
      "outputs": [
        {
          "output_type": "stream",
          "name": "stdout",
          "text": [
            "0.8398\n",
            "0.741909090909091\n",
            "[[5268  232]\n",
            " [2607 2893]]\n",
            "0.99745\n",
            "0.8416363636363636\n",
            "[[3283 2217]\n",
            " [ 460 5040]]\n"
          ]
        }
      ]
    }
  ],
  "metadata": {
    "colab": {
      "collapsed_sections": [
        "L8BLomy45V00",
        "Op5I-8x1yIvX",
        "OgCgBtv4ye3K",
        "dmf-mrqEy8Py",
        "W4iKD3gSzibb",
        "1T2Q3vEq0Dn3",
        "_JlwwfFz0Ug6",
        "O8c41IOlY2QP",
        "4RbOQskEmSBH"
      ],
      "name": "Opinions vs Fact.ipynb",
      "provenance": []
    },
    "kernelspec": {
      "display_name": "Python 3",
      "name": "python3"
    },
    "language_info": {
      "name": "python"
    }
  },
  "nbformat": 4,
  "nbformat_minor": 0
}